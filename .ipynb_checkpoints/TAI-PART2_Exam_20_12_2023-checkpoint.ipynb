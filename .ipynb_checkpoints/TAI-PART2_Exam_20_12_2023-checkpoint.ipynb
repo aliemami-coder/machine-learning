{
 "cells": [
  {
   "cell_type": "code",
   "execution_count": null,
   "metadata": {
    "id": "So2itsajqiiO"
   },
   "outputs": [
    {
     "name": "stdout",
     "output_type": "stream",
     "text": [
      "Defaulting to user installation because normal site-packages is not writeable\n",
      "Collecting foolbox\n",
      "  Using cached foolbox-3.3.3-py3-none-any.whl (1.7 MB)\n",
      "Requirement already satisfied: secml[pytorch] in /home/golden-coder/.local/lib/python3.10/site-packages (0.15.6)\n",
      "Requirement already satisfied: numpy>=1.17 in /home/golden-coder/.local/lib/python3.10/site-packages (from secml[pytorch]) (1.26.2)\n",
      "Requirement already satisfied: scipy>=1.3.2 in /home/golden-coder/.local/lib/python3.10/site-packages (from secml[pytorch]) (1.11.4)\n",
      "Requirement already satisfied: matplotlib>=3 in /home/golden-coder/.local/lib/python3.10/site-packages (from secml[pytorch]) (3.8.2)\n",
      "Requirement already satisfied: scikit-learn>=0.22 in /home/golden-coder/.local/lib/python3.10/site-packages (from secml[pytorch]) (1.3.2)\n",
      "Requirement already satisfied: joblib>=0.14 in /home/golden-coder/.local/lib/python3.10/site-packages (from secml[pytorch]) (1.3.2)\n",
      "Requirement already satisfied: Pillow>=6.2.1 in /usr/lib/python3/dist-packages (from secml[pytorch]) (9.0.1)\n",
      "Requirement already satisfied: requests in /home/golden-coder/.local/lib/python3.10/site-packages (from secml[pytorch]) (2.28.2)\n",
      "Requirement already satisfied: python-dateutil in /home/golden-coder/.local/lib/python3.10/site-packages (from secml[pytorch]) (2.8.2)\n",
      "Collecting torch!=1.5.*,>=1.4 (from secml[pytorch])\n",
      "  Using cached torch-2.1.2-cp310-cp310-manylinux1_x86_64.whl.metadata (25 kB)\n",
      "Collecting torchvision!=0.6.*,>=0.5 (from secml[pytorch])\n",
      "  Using cached torchvision-0.16.2-cp310-cp310-manylinux1_x86_64.whl.metadata (6.6 kB)\n",
      "Requirement already satisfied: setuptools in /usr/lib/python3/dist-packages (from foolbox) (59.6.0)\n",
      "Collecting eagerpy>=0.30.0 (from foolbox)\n",
      "  Using cached eagerpy-0.30.0-py3-none-any.whl (31 kB)\n",
      "Collecting GitPython>=3.0.7 (from foolbox)\n",
      "  Using cached GitPython-3.1.40-py3-none-any.whl.metadata (12 kB)\n",
      "Collecting typing-extensions>=3.7.4.1 (from foolbox)\n",
      "  Using cached typing_extensions-4.9.0-py3-none-any.whl.metadata (3.0 kB)\n",
      "Collecting gitdb<5,>=4.0.1 (from GitPython>=3.0.7->foolbox)\n",
      "  Using cached gitdb-4.0.11-py3-none-any.whl.metadata (1.2 kB)\n",
      "Requirement already satisfied: contourpy>=1.0.1 in /home/golden-coder/.local/lib/python3.10/site-packages (from matplotlib>=3->secml[pytorch]) (1.2.0)\n",
      "Requirement already satisfied: cycler>=0.10 in /home/golden-coder/.local/lib/python3.10/site-packages (from matplotlib>=3->secml[pytorch]) (0.12.1)\n",
      "Requirement already satisfied: fonttools>=4.22.0 in /home/golden-coder/.local/lib/python3.10/site-packages (from matplotlib>=3->secml[pytorch]) (4.45.1)\n",
      "Requirement already satisfied: kiwisolver>=1.3.1 in /home/golden-coder/.local/lib/python3.10/site-packages (from matplotlib>=3->secml[pytorch]) (1.4.5)\n",
      "Requirement already satisfied: packaging>=20.0 in /usr/lib/python3/dist-packages (from matplotlib>=3->secml[pytorch]) (21.3)\n",
      "Requirement already satisfied: pyparsing>=2.3.1 in /usr/lib/python3/dist-packages (from matplotlib>=3->secml[pytorch]) (2.4.7)\n",
      "Requirement already satisfied: six>=1.5 in /usr/lib/python3/dist-packages (from python-dateutil->secml[pytorch]) (1.16.0)\n",
      "Requirement already satisfied: charset-normalizer<4,>=2 in /home/golden-coder/.local/lib/python3.10/site-packages (from requests->secml[pytorch]) (3.0.1)\n",
      "Requirement already satisfied: idna<4,>=2.5 in /usr/lib/python3/dist-packages (from requests->secml[pytorch]) (3.3)\n",
      "Requirement already satisfied: urllib3<1.27,>=1.21.1 in /usr/lib/python3/dist-packages (from requests->secml[pytorch]) (1.26.5)\n",
      "Requirement already satisfied: certifi>=2017.4.17 in /usr/lib/python3/dist-packages (from requests->secml[pytorch]) (2020.6.20)\n",
      "Requirement already satisfied: threadpoolctl>=2.0.0 in /home/golden-coder/.local/lib/python3.10/site-packages (from scikit-learn>=0.22->secml[pytorch]) (3.2.0)\n",
      "Collecting filelock (from torch!=1.5.*,>=1.4->secml[pytorch])\n",
      "  Using cached filelock-3.13.1-py3-none-any.whl.metadata (2.8 kB)\n",
      "Collecting sympy (from torch!=1.5.*,>=1.4->secml[pytorch])\n",
      "  Using cached sympy-1.12-py3-none-any.whl (5.7 MB)\n",
      "Collecting networkx (from torch!=1.5.*,>=1.4->secml[pytorch])\n",
      "  Using cached networkx-3.2.1-py3-none-any.whl.metadata (5.2 kB)\n",
      "Requirement already satisfied: jinja2 in /usr/local/lib/python3.10/dist-packages (from torch!=1.5.*,>=1.4->secml[pytorch]) (3.1.2)\n",
      "Collecting fsspec (from torch!=1.5.*,>=1.4->secml[pytorch])\n",
      "  Using cached fsspec-2023.12.2-py3-none-any.whl.metadata (6.8 kB)\n",
      "Collecting nvidia-cuda-nvrtc-cu12==12.1.105 (from torch!=1.5.*,>=1.4->secml[pytorch])\n",
      "  Using cached nvidia_cuda_nvrtc_cu12-12.1.105-py3-none-manylinux1_x86_64.whl (23.7 MB)\n",
      "Collecting nvidia-cuda-runtime-cu12==12.1.105 (from torch!=1.5.*,>=1.4->secml[pytorch])\n",
      "  Using cached nvidia_cuda_runtime_cu12-12.1.105-py3-none-manylinux1_x86_64.whl (823 kB)\n",
      "Collecting nvidia-cuda-cupti-cu12==12.1.105 (from torch!=1.5.*,>=1.4->secml[pytorch])\n",
      "  Using cached nvidia_cuda_cupti_cu12-12.1.105-py3-none-manylinux1_x86_64.whl (14.1 MB)\n",
      "Collecting nvidia-cudnn-cu12==8.9.2.26 (from torch!=1.5.*,>=1.4->secml[pytorch])\n",
      "  Using cached nvidia_cudnn_cu12-8.9.2.26-py3-none-manylinux1_x86_64.whl.metadata (1.6 kB)\n",
      "Collecting nvidia-cublas-cu12==12.1.3.1 (from torch!=1.5.*,>=1.4->secml[pytorch])\n",
      "  Using cached nvidia_cublas_cu12-12.1.3.1-py3-none-manylinux1_x86_64.whl (410.6 MB)\n",
      "Collecting nvidia-cufft-cu12==11.0.2.54 (from torch!=1.5.*,>=1.4->secml[pytorch])\n",
      "  Downloading nvidia_cufft_cu12-11.0.2.54-py3-none-manylinux1_x86_64.whl (121.6 MB)\n",
      "\u001b[2K     \u001b[38;2;114;156;31m━━━━━━━━━━━━━━━━━━━━━━━━━━━━━━━━━━━━━\u001b[0m \u001b[32m121.6/121.6 MB\u001b[0m \u001b[31m202.9 kB/s\u001b[0m eta \u001b[36m0:00:00\u001b[0mm eta \u001b[36m0:00:01\u001b[0m[36m0:00:14\u001b[0m\n",
      "\u001b[?25hCollecting nvidia-curand-cu12==10.3.2.106 (from torch!=1.5.*,>=1.4->secml[pytorch])\n",
      "  Downloading nvidia_curand_cu12-10.3.2.106-py3-none-manylinux1_x86_64.whl (56.5 MB)\n",
      "\u001b[2K     \u001b[38;2;114;156;31m━━━━━━━━━━━━━━━━━━━━━━━━━━━━━━━━━━━━━━━\u001b[0m \u001b[32m56.5/56.5 MB\u001b[0m \u001b[31m370.3 kB/s\u001b[0m eta \u001b[36m0:00:00\u001b[0mm eta \u001b[36m0:00:01\u001b[0m[36m0:00:04\u001b[0m\n",
      "\u001b[?25hCollecting nvidia-cusolver-cu12==11.4.5.107 (from torch!=1.5.*,>=1.4->secml[pytorch])\n",
      "  Downloading nvidia_cusolver_cu12-11.4.5.107-py3-none-manylinux1_x86_64.whl (124.2 MB)\n",
      "\u001b[2K     \u001b[38;2;114;156;31m━━━━━━━━━━━━━━━━━━━━━━━━━━━━━━━━━━━━━\u001b[0m \u001b[32m124.2/124.2 MB\u001b[0m \u001b[31m318.5 kB/s\u001b[0m eta \u001b[36m0:00:00\u001b[0mm eta \u001b[36m0:00:01\u001b[0m[36m0:00:10\u001b[0m\n",
      "\u001b[?25hCollecting nvidia-cusparse-cu12==12.1.0.106 (from torch!=1.5.*,>=1.4->secml[pytorch])\n",
      "  Downloading nvidia_cusparse_cu12-12.1.0.106-py3-none-manylinux1_x86_64.whl (196.0 MB)\n",
      "\u001b[2K     \u001b[38;2;249;38;114m━━━━━━━━━━━━\u001b[0m\u001b[38;2;249;38;114m╸\u001b[0m\u001b[38;5;237m━━━━━━━━━━━━━━━━━━━━━━━━━\u001b[0m \u001b[32m65.7/196.0 MB\u001b[0m \u001b[31m411.1 kB/s\u001b[0m eta \u001b[36m0:05:17\u001b[0m"
     ]
    }
   ],
   "source": [
    "try:\n",
    "    import secml\n",
    "    import foolbox\n",
    "    import sklearn\n",
    "except Exception:\n",
    "    %pip install 'secml[pytorch]' foolbox"
   ]
  },
  {
   "cell_type": "markdown",
   "metadata": {
    "id": "TbV4OJbftF3r"
   },
   "source": [
    "# Exercise 1\n",
    "\n",
    "Complete the following tasks using SecML"
   ]
  },
  {
   "cell_type": "markdown",
   "metadata": {
    "id": "vKbsN5Arr2bU"
   },
   "source": [
    "Create an SVM with scikit-learn (use SVC, leave the default parameters) and wrap it with the scikit-learn SecML wrapper seen during the course."
   ]
  },
  {
   "cell_type": "code",
   "execution_count": null,
   "metadata": {
    "id": "IutV94PcrOGV"
   },
   "outputs": [],
   "source": [
    "import secml\n",
    "from secml.data import CDataset\n",
    "from secml.data.loader import CDLRandomBlobs\n",
    "from secml.preprocessing import CNormalizerMinMax\n",
    "from secml.splitting import CTrainTestSplit\n",
    "from secml.ml.classifiers import CClassifierSVM\n",
    "from secml.ml.peval.metrics import CMetricAccuracy\n",
    "\n",
    "# Create SVM wrapper \n",
    "svm = CClassifierSVM()"
   ]
  },
  {
   "cell_type": "markdown",
   "metadata": {
    "id": "hVsF37vjr-kI"
   },
   "source": [
    "Create a dataset consisting of 500 samples of 2D points from two clusters (CDLRandomBlobs), whose centers are located in (-2, 2) and (2,2) with standard deviation = 0.5. Normalize the dataset between 0 and 1 (CNormalizerMinMax)."
   ]
  },
  {
   "cell_type": "code",
   "execution_count": null,
   "metadata": {
    "id": "l-uzqBEvrVxX"
   },
   "outputs": [],
   "source": [
    "# Generate random blobs dataset\n",
    "data = CDLRandomBlobs(n_centers=2, cluster_std=0.5, n_features=2, n_samples=500, random_state=0)\n",
    "data.class_labels = [0, 1]\n",
    "data.center = [[-2, 2], [2, 2]]  \n",
    "\n",
    "# Normalize dataset between 0 and 1\n",
    "norm_data = CNormalizerMinMax().fit_transform(data)"
   ]
  },
  {
   "cell_type": "markdown",
   "metadata": {
    "id": "yCLA0xzpsins"
   },
   "source": [
    "Divide the data with the SecML splitter (CTrainTestSplit), using 400 samples per il training e 100 per il test."
   ]
  },
  {
   "cell_type": "code",
   "execution_count": null,
   "metadata": {
    "id": "usG6mYlzsfyY"
   },
   "outputs": [],
   "source": [
    "# complete here\n",
    "# Split data into training and test sets\n",
    "train_data, test_data = CTrainTestSplit(train_size=0.8, random_state=0).split(norm_data)"
   ]
  },
  {
   "cell_type": "markdown",
   "metadata": {
    "id": "vKNFA_UUtXfB"
   },
   "source": [
    "Fit the classifier on the training data."
   ]
  },
  {
   "cell_type": "code",
   "execution_count": null,
   "metadata": {
    "colab": {
     "base_uri": "https://localhost:8080/"
    },
    "id": "bgP-6ewxtW-4",
    "outputId": "1cc06eef-3a62-4f77-a34f-c85b1b0a3720"
   },
   "outputs": [
    {
     "data": {
      "text/plain": [
       "CClassifierSkLearn{'sklearn_model': SVC(), 'classes': CArray(2,)(dense: [0 1]), 'n_features': 2, 'preprocess': None, 'n_jobs': 1}"
      ]
     },
     "execution_count": 5,
     "metadata": {},
     "output_type": "execute_result"
    }
   ],
   "source": [
    "# complete here\n",
    "\n",
    "# Train SVM model\n",
    "svm.fit(train_data)"
   ]
  },
  {
   "cell_type": "markdown",
   "metadata": {
    "id": "oXKWrHZetiNv"
   },
   "source": [
    "Compute the accuracy on the test set using the CMetricAccuracy object."
   ]
  },
  {
   "cell_type": "code",
   "execution_count": null,
   "metadata": {
    "colab": {
     "base_uri": "https://localhost:8080/"
    },
    "id": "Jx2Qe4DstdSP",
    "outputId": "f2f73fd1-3eb7-4ddb-975e-5ee256667afa"
   },
   "outputs": [
    {
     "name": "stdout",
     "output_type": "stream",
     "text": [
      "1.0\n"
     ]
    }
   ],
   "source": [
    "# complete here\n",
    "# Evaluate accuracy on test set  \n",
    "acc = CMetricAccuracy().performance_score(svm, test_data)\n",
    "print(\"Accuracy: {:.2f}\".format(acc))"
   ]
  },
  {
   "cell_type": "markdown",
   "metadata": {
    "id": "OAU4FNhBt0DB"
   },
   "source": [
    "Plot the learned decision function using the ad-hoc method of the CFigure class."
   ]
  },
  {
   "cell_type": "code",
   "execution_count": 2,
   "metadata": {
    "id": "YOzVOO7BtuIh"
   },
   "outputs": [],
   "source": [
    "# complete here\n",
    "# Plot decision function\n",
    "fig = svm.decision_function(train_data).figure()"
   ]
  },
  {
   "cell_type": "markdown",
   "metadata": {
    "id": "Noi1NE_owIhq"
   },
   "source": [
    "# Exercise 2\n",
    "\n",
    "We provide you the code for training a simple model on 2D data. Execute the cell to create and fit the model."
   ]
  },
  {
   "cell_type": "code",
   "execution_count": null,
   "metadata": {
    "colab": {
     "base_uri": "https://localhost:8080/",
     "height": 544
    },
    "id": "tRV_OVL7uAlw",
    "outputId": "d0137dc7-1939-46dd-b701-8c8b1bd4571b"
   },
   "outputs": [
    {
     "name": "stdout",
     "output_type": "stream",
     "text": [
      "Accuracy is 1.0\n"
     ]
    },
    {
     "data": {
      "image/png": "[encoded data removed]",
      "text/plain": [
       "<Figure size 600x600 with 1 Axes>"
      ]
     },
     "metadata": {},
     "output_type": "display_data"
    }
   ],
   "source": [
    "%matplotlib inline\n",
    "import torch\n",
    "torch.manual_seed(111)\n",
    "from torch.nn.functional import relu, softmax\n",
    "from torch.optim import SGD\n",
    "from secml.ml.classifiers import CClassifierPyTorch\n",
    "from secml.ml.features import CNormalizerMinMax\n",
    "from secml.data.splitter import CTrainTestSplit\n",
    "from secml.data.loader import CDLRandomBlobs\n",
    "from secml.ml.features import CNormalizerMinMax\n",
    "from secml.figure import CFigure\n",
    "from secml.ml.peval.metrics import CMetricAccuracy\n",
    "\n",
    "class Net(torch.nn.Module):\n",
    "    def __init__(self):\n",
    "        super().__init__()\n",
    "        self.lin1 = torch.nn.Linear(2, 50)\n",
    "        self.lin2 = torch.nn.Linear(50, 50)\n",
    "        self.lin3 = torch.nn.Linear(50, 3)\n",
    "\n",
    "    def forward(self, x):\n",
    "        x = relu(self.lin1(x))\n",
    "        x = relu(self.lin2(x))\n",
    "        y = self.lin3(x)\n",
    "        return y\n",
    "\n",
    "net = Net()\n",
    "optimizer = SGD(net.parameters(), lr=0.01, momentum=0.9)\n",
    "loss_function = torch.nn.CrossEntropyLoss()\n",
    "from secml.ml.classifiers import CClassifierPyTorch\n",
    "clf = CClassifierPyTorch(model=net,\n",
    "                         loss=loss_function,\n",
    "                         optimizer=optimizer,\n",
    "                         epochs=30,\n",
    "                         batch_size=32,\n",
    "                         random_state=31)\n",
    "\n",
    "\n",
    "dataset = CDLRandomBlobs(n_features=2,\n",
    "                         centers=[[0,0], [1,1], [0,1]],\n",
    "                         cluster_std=0.2,\n",
    "                         n_samples=500,\n",
    "                         random_state=111).load()\n",
    "\n",
    "dataset.X = CNormalizerMinMax().fit_transform(dataset.X)\n",
    "splitter = CTrainTestSplit(train_size=475, test_size=25, random_state=8)\n",
    "tr, ts = splitter.split(dataset)\n",
    "\n",
    "clf.fit(tr.X, tr.Y)\n",
    "\n",
    "print(f\"Accuracy is {CMetricAccuracy().performance_score(clf.predict(ts.X), ts.Y)}\")\n",
    "fig = CFigure()\n",
    "fig.sp.plot_ds(ts)\n",
    "fig.sp.plot_decision_regions(clf, n_grid_points=50)"
   ]
  },
  {
   "cell_type": "markdown",
   "metadata": {
    "id": "kBifoOnewNAG"
   },
   "source": [
    "Compute a security evaluation curve of the trained model using the corresponding SecML object (CSecEval) as shown in class, with the following setup.\n",
    "\n",
    "* Use the CFoolboxPGDLInf attack from the SecML library, with 5 iterations and 0.05 as absolute step size, no random start, lower bound 0 and upper bound 1;\n",
    "\n",
    "* Use at least 5 values for the perturbation budget epsilon.\n",
    "Since it is an L-inf attack and the domain is bounded between 0 and 1, which is the maximum perturbation norm that the attack can reach?\n",
    "\n"
   ]
  },
  {
   "cell_type": "code",
   "execution_count": null,
   "metadata": {
    "id": "aMjmX-kI8h8n"
   },
   "outputs": [],
   "source": [
    "# complete here\n",
    "from secml.adv.attacks import CFoolboxPGDLSq\n",
    "from secml.adv.seceval import CSecEval\n",
    "\n",
    "# Set up attack\n",
    "attack = CFoolboxPGDLSq(abs_step=0.05, max_iter=5, eps=None, \n",
    "                    lb=0, ub=1, random_init=False) \n",
    "\n",
    "# Create SecEval object with at least 5 epsilon values  \n",
    "eps_list = [0.1, 0.2, 0.3, 0.4, 0.5]\n",
    "seceval = CSecEval(classifier=clf, attacker=attack, \n",
    "                    ds=ts, epsilon=eps_list)\n",
    "\n",
    "# Compute security evaluation curve\n",
    "y_sec, x_sec = seceval.roc_curve(plot=False)"
   ]
  },
  {
   "cell_type": "markdown",
   "metadata": {
    "id": "R6qQOlAQ9uzW"
   },
   "source": [
    "Plot the security evaluation curve using the ad-hoc method of the CFigure class."
   ]
  },
  {
   "cell_type": "code",
   "execution_count": 1,
   "metadata": {
    "id": "Z0AqKRNU89pv"
   },
   "outputs": [],
   "source": [
    "# complete here\n",
    "# Plot security evaluation curve\n",
    "fig = CFigure()\n",
    "fig.sp.plot_roc(x_sec, y_sec, plot_labels=True)\n",
    "fig.show()\n",
    "print(\"Maximum epsilon for L-inf attack on [0,1] data: 1\")"
   ]
  },
  {
   "cell_type": "markdown",
   "metadata": {
    "id": "YEYSsbBTBxbb"
   },
   "source": [
    "# Exercise 3\n",
    "\n",
    "We provide the code for an example implementation of gradient descent attack.\n",
    "The implementation contains a bug: find it, fix it, and motivate your choice."
   ]
  },
  {
   "cell_type": "code",
   "execution_count": null,
   "metadata": {
    "id": "Xg6ZvH-I_pnN"
   },
   "outputs": [],
   "source": [
    "from secml.array import CArray  \n",
    "from secml.ml import CClassifier\n",
    "from secml.ml.classifiers.loss import CLossCrossEntropy\n",
    "\n",
    "def pgd_l2_targeted(clf : CClassifier, x : CArray, y_original : CArray, y_target : int, steps : int=20, eps : float=0.5, step_size : float=0.05, lb : int = 0, ub : int = 1):\n",
    "\n",
    "    loss_func = CLossCrossEntropy()\n",
    "    \n",
    "    x_adv = x.deepcopy()\n",
    "    \n",
    "    for i in range(steps):\n",
    "    \n",
    "        scores = clf.decision_function(x_adv)\n",
    "        \n",
    "        loss_gradient = loss_func.dloss(y_true=y_original, score=scores, pos_label=y_target)\n",
    "        \n",
    "        clf_gradient = clf.grad_f_x(x_adv, y_target)\n",
    "        \n",
    "        gradient = clf_gradient + loss_gradient # FIXED\n",
    "        \n",
    "        if gradient.norm() != 0:\n",
    "        \n",
    "            gradient /= gradient.norm()\n",
    "            \n",
    "        x_adv = x_adv + gradient\n",
    "        \n",
    "        delta = x_adv - x\n",
    "        \n",
    "        if delta.norm() > eps:\n",
    "        \n",
    "            delta = delta / delta.norm()\n",
    "            \n",
    "            x_adv = x + delta * eps\n",
    "            \n",
    "        x_adv = x_adv.clip(lb, ub)\n",
    "    \n",
    "    scores = clf.decision_function(x_adv)\n",
    "    \n",
    "    print(f'Adv label: {scores.argmax()}')\n",
    "    \n",
    "    return x_adv"
   ]
  }
 ],
 "metadata": {
  "colab": {
   "provenance": []
  },
  "kernelspec": {
   "display_name": "Python 3 (ipykernel)",
   "language": "python",
   "name": "python3"
  },
  "language_info": {
   "codemirror_mode": {
    "name": "ipython",
    "version": 3
   },
   "file_extension": ".py",
   "mimetype": "text/x-python",
   "name": "python",
   "nbconvert_exporter": "python",
   "pygments_lexer": "ipython3",
   "version": "3.10.12"
  }
 },
 "nbformat": 4,
 "nbformat_minor": 1
}
